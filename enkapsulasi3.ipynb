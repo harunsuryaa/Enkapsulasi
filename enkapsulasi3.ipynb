{
  "nbformat": 4,
  "nbformat_minor": 0,
  "metadata": {
    "colab": {
      "provenance": [],
      "authorship_tag": "ABX9TyPfYVNUMH6f0HZ0qMdRxltn",
      "include_colab_link": true
    },
    "kernelspec": {
      "name": "python3",
      "display_name": "Python 3"
    },
    "language_info": {
      "name": "python"
    }
  },
  "cells": [
    {
      "cell_type": "markdown",
      "metadata": {
        "id": "view-in-github",
        "colab_type": "text"
      },
      "source": [
        "<a href=\"https://colab.research.google.com/github/harunsuryaa/Enkapsulasi/blob/main/enkapsulasi3.ipynb\" target=\"_parent\"><img src=\"https://colab.research.google.com/assets/colab-badge.svg\" alt=\"Open In Colab\"/></a>"
      ]
    },
    {
      "cell_type": "code",
      "execution_count": 1,
      "metadata": {
        "id": "XCnyHXYIlMWE"
      },
      "outputs": [],
      "source": [
        "class RekeningBank:\n",
        "  def __init__(self, namanasabah, saldo, jumlah):\n",
        "    self.__namanasabah = namanasabah\n",
        "    self.__saldo = saldo\n",
        "    self.__jumlah = jumlah\n",
        "\n",
        "  def get_saldo(self):\n",
        "    return self.__saldo\n",
        "\n",
        "  def set_saldo(self, saldo):\n",
        "    self.__saldo = saldo\n",
        "\n",
        "  def get_namanasabah(self):\n",
        "    return self.__namanasabah\n",
        "\n",
        "  def set_namanasabah(self, namanasabah):\n",
        "    self.__namanasabah = namanasabah\n",
        "\n",
        "  def transfer(self):\n",
        "    return self.__saldo + self.__jumlah\n",
        "\n",
        "  def tarik(self):\n",
        "    if self.__jumlah <= self.__saldo:\n",
        "      return self.__saldo - self.__jumlah\n",
        "    else:\n",
        "      print(\"saldo anda tidak cukup\")\n",
        ""
      ]
    },
    {
      "cell_type": "code",
      "source": [
        "nasabah1 = RekeningBank(\"Harun\", 800000000, 200000000)\n",
        "\n",
        "print(f\"Nama Nasabah : {nasabah1.get_namanasabah()}\")\n",
        "print(f\"Transfer Saldo : {nasabah1.get_saldo()}\")\n",
        "\n",
        "print(\"========================================\")\n",
        "nasabah1.set_namanasabah('Maya')\n",
        "print(f\"Nama Nasabah : {nasabah1.get_namanasabah()}\")\n",
        "nasabah1.set_saldo(400000000)\n",
        "print(f\"Transfer Saldo : {nasabah1.get_saldo()}\")\n",
        "\n",
        "print(\"========================================\")\n",
        "nasabah1.set_namanasabah('Fika')\n",
        "print(f\"Nama Nasabah : {nasabah1.get_namanasabah()}\")\n",
        "nasabah1.set_saldo(500000000)\n",
        "print(f\"Transfer Saldo : {nasabah1.get_saldo()}\")\n",
        "\n",
        "print(f\"Total Saldo Setelah Disetor : {nasabah1.transfer()}\")\n",
        "print(f\"Sisa Saldo : {nasabah1.tarik()}\")"
      ],
      "metadata": {
        "colab": {
          "base_uri": "https://localhost:8080/"
        },
        "id": "VB-RsrA8lVnq",
        "outputId": "46816d36-47b6-4440-df7d-f9a8994b6085"
      },
      "execution_count": 3,
      "outputs": [
        {
          "output_type": "stream",
          "name": "stdout",
          "text": [
            "Nama Nasabah : Harun\n",
            "Transfer Saldo : 800000000\n",
            "========================================\n",
            "Nama Nasabah : Maya\n",
            "Transfer Saldo : 400000000\n",
            "========================================\n",
            "Nama Nasabah : Fika\n",
            "Transfer Saldo : 500000000\n",
            "Total Saldo Setelah Disetor : 700000000\n",
            "Sisa Saldo : 300000000\n"
          ]
        }
      ]
    }
  ]
}