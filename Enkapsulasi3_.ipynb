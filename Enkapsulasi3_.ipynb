{
  "nbformat": 4,
  "nbformat_minor": 0,
  "metadata": {
    "colab": {
      "provenance": [],
      "authorship_tag": "ABX9TyN0a9JBUWrMd2g7GPQr+tA5",
      "include_colab_link": true
    },
    "kernelspec": {
      "name": "python3",
      "display_name": "Python 3"
    },
    "language_info": {
      "name": "python"
    }
  },
  "cells": [
    {
      "cell_type": "markdown",
      "metadata": {
        "id": "view-in-github",
        "colab_type": "text"
      },
      "source": [
        "<a href=\"https://colab.research.google.com/github/harunsuryaa/Enkapsulasi/blob/main/Enkapsulasi3_.ipynb\" target=\"_parent\"><img src=\"https://colab.research.google.com/assets/colab-badge.svg\" alt=\"Open In Colab\"/></a>"
      ]
    },
    {
      "cell_type": "code",
      "source": [
        "class RekeningBank:\n",
        "  def __init__(self, namapemilik, saldo):\n",
        "    self.__namapemilik = namapemilik\n",
        "    self.__saldo = saldo\n",
        "\n",
        "  def get_namapemilik(self):\n",
        "    return self.__namapemilik\n",
        "\n",
        "  def set_namapemilik(self, namapemilik):\n",
        "    self.__namapemilik = namapemilik\n",
        "\n",
        "  def get_saldo(self):\n",
        "    return self.__saldo\n",
        "\n",
        "  def set_saldo(self):\n",
        "    self.__saldo = saldo\n",
        "\n",
        "  def setor(self, jml_setor):\n",
        "    self.__saldo = self.__saldo + jml_setor\n",
        "    return self.__saldo\n",
        "\n",
        "  def tarik(self, jml_tarik):\n",
        "    if jml_tarik <= self.__saldo:\n",
        "      return self.__saldo - jml_tarik\n",
        "    else:\n",
        "      print(\"saldo anda kurang\")\n",
        "\n"
      ],
      "metadata": {
        "id": "A8Ned1lufwqb"
      },
      "execution_count": null,
      "outputs": []
    },
    {
      "cell_type": "code",
      "source": [
        "#Program utama untuk mendemonstrasikan class RekeningBank\n",
        "#yang menunjukkan penggunaan semua fungsi yang ada\n",
        "user1 = RekeningBank('HARUN', 7000000)\n",
        "#menampilkan nama dan saldo yang telah diubah\n",
        "print(\"selamat datang\", user1.get_namapemilik())\n",
        "print(\"saldo anda:\", \"Rp,-\", user1.get_saldo())\n",
        "print(\"saldo anda:\", user1.setor(10000))\n",
        "print(\"Anda berhasil menarik sejumlah Rp,-\", user1.tarik(40000))\n",
        "user1.tarik(100000000000000000)"
      ],
      "metadata": {
        "colab": {
          "base_uri": "https://localhost:8080/"
        },
        "id": "XpAoJwR1f34F",
        "outputId": "add524c3-9b20-4569-ccf5-1dba2cc2f61a"
      },
      "execution_count": null,
      "outputs": [
        {
          "output_type": "stream",
          "name": "stdout",
          "text": [
            "selamat datang HARUN\n",
            "saldo anda: Rp,- 7000000\n",
            "saldo anda: 7010000\n",
            "Anda berhasil menarik sejumlah Rp,- 6970000\n",
            "saldo anda kurang\n"
          ]
        }
      ]
    }
  ]
}