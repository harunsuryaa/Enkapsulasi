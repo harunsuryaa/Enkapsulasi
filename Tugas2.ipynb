{
  "nbformat": 4,
  "nbformat_minor": 0,
  "metadata": {
    "colab": {
      "provenance": [],
      "authorship_tag": "ABX9TyPyYRgtUVqiw0xyS+FgnhWZ",
      "include_colab_link": true
    },
    "kernelspec": {
      "name": "python3",
      "display_name": "Python 3"
    },
    "language_info": {
      "name": "python"
    }
  },
  "cells": [
    {
      "cell_type": "markdown",
      "metadata": {
        "id": "view-in-github",
        "colab_type": "text"
      },
      "source": [
        "<a href=\"https://colab.research.google.com/github/harunsuryaa/Enkapsulasi/blob/main/Tugas2.ipynb\" target=\"_parent\"><img src=\"https://colab.research.google.com/assets/colab-badge.svg\" alt=\"Open In Colab\"/></a>"
      ]
    },
    {
      "cell_type": "code",
      "execution_count": null,
      "metadata": {
        "id": "TCilHOVqiAQY"
      },
      "outputs": [],
      "source": [
        "\n",
        "# Desain class\n",
        "class RekeningBank:\n",
        "  def __init__(self, namapemilik, saldo):\n",
        "    self.__namapemilik = namapemilik\n",
        "    self.__saldo = saldo\n",
        "\n",
        "  def get_namapemilik(self):\n",
        "    return self.__namapemilik\n",
        "\n",
        "  def set_namapemilik(self, namapemilik):\n",
        "    self.__namapemilik = namapemilik\n",
        "\n",
        "  def get_saldo(self):\n",
        "    return self.__saldo\n",
        "\n",
        "  def set_saldo(self, saldo):\n",
        "    if saldo > 2000000000:\n",
        "      self.__saldo = 2000000000\n",
        "\n",
        "    elif saldo < 100000000:\n",
        "      self.__saldo = 100000000\n",
        "\n",
        "    else:\n",
        "      self.__saldo = saldo"
      ]
    },
    {
      "cell_type": "code",
      "source": [
        "#Program utama untuk mendemonstrasikan class RekeningBank\n",
        "nasabah1 = RekeningBank(\"Harun\", 400000000)\n",
        "\n",
        "print(\"Nama =\",nasabah1.get_namapemilik())\n",
        "print(\"Saldo =\",nasabah1.get_saldo())\n",
        "\n",
        "\n",
        "#yang menunjukkan penggunaan semua fungsi yang ada"
      ],
      "metadata": {
        "colab": {
          "base_uri": "https://localhost:8080/"
        },
        "id": "lZf4yrhwiB0G",
        "outputId": "3d1f7e0a-6d3e-4225-fa90-784f7edd8dd9"
      },
      "execution_count": null,
      "outputs": [
        {
          "output_type": "stream",
          "name": "stdout",
          "text": [
            "Nama = Harun\n",
            "Saldo = 400000000\n"
          ]
        }
      ]
    }
  ]
}